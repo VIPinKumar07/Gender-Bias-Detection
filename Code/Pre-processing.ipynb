{
 "cells": [
  {
   "cell_type": "markdown",
   "id": "30efac8d",
   "metadata": {},
   "source": [
    "\n",
    "Importing Libraries"
   ]
  },
  {
   "cell_type": "code",
   "execution_count": 2,
   "id": "43a7deff",
   "metadata": {},
   "outputs": [],
   "source": [
    "import csv\n",
    "import scipy\n",
    "\n",
    "import numpy as np\n",
    "import pandas as pd\n",
    "\n",
    "import matplotlib.pyplot as plt\n",
    "import seaborn as sns\n",
    "\n",
    "import nltk\n",
    "from nltk.corpus import stopwords\n",
    "from nltk.tokenize import word_tokenize"
   ]
  },
  {
   "cell_type": "code",
   "execution_count": 3,
   "id": "8285f679",
   "metadata": {},
   "outputs": [],
   "source": [
    "# loading the text file text-and-id.text\n",
    "\n",
    "with open('/Users/deepaksharma/Desktop/Open IIT DA/Dataset/drive-download-20221030T121228Z-001/text-and-id.txt') as inf:\n",
    "    tdata = inf.read().split('\\n')"
   ]
  },
  {
   "cell_type": "code",
   "execution_count": 4,
   "id": "53b9bf0c",
   "metadata": {},
   "outputs": [
    {
     "data": {
      "text/plain": [
       "'57 Every person has a right to profess, practice and propagate the religion he or she believes in. Every religious group or sect is free to manage its religious affairs. A right to propagate one s religion, however, does not mean that a person has right to compel another person to convert into his religion by means of force, fraud, inducement or allurement. Of course, a person is free to change religion on his or her own will. Freedom to practice religion does not mean that a person can do whatever he wants in the name of religion. For example, one cannot sacrifice animals or human beings as offerings to supernatural forces or gods. Religious practices which treat women as inferior or those that infringe women s freedom are not allowed. For example, one cannot force a widowed woman to shave head or wear white clothes. '"
      ]
     },
     "execution_count": 4,
     "metadata": {},
     "output_type": "execute_result"
    }
   ],
   "source": [
    "tdata[0]"
   ]
  },
  {
   "cell_type": "code",
   "execution_count": 5,
   "id": "36cf2fd7",
   "metadata": {},
   "outputs": [],
   "source": [
    "# Separating Id and Text from text data\n",
    "# And storing in res as list\n",
    "res = []\n",
    "\n",
    "for i in tdata:\n",
    "    row = []\n",
    "    text = \"\"\n",
    "    num = \"\"\n",
    "    for j in i:\n",
    "        if(j.isdigit()):\n",
    "            num+=j\n",
    "        else:\n",
    "            text+=j\n",
    "    row.append(num)\n",
    "    row.append(text)\n",
    "    res.append(row)"
   ]
  },
  {
   "cell_type": "code",
   "execution_count": 6,
   "id": "71400066",
   "metadata": {},
   "outputs": [
    {
     "data": {
      "text/plain": [
       "['57',\n",
       " ' Every person has a right to profess, practice and propagate the religion he or she believes in. Every religious group or sect is free to manage its religious affairs. A right to propagate one s religion, however, does not mean that a person has right to compel another person to convert into his religion by means of force, fraud, inducement or allurement. Of course, a person is free to change religion on his or her own will. Freedom to practice religion does not mean that a person can do whatever he wants in the name of religion. For example, one cannot sacrifice animals or human beings as offerings to supernatural forces or gods. Religious practices which treat women as inferior or those that infringe women s freedom are not allowed. For example, one cannot force a widowed woman to shave head or wear white clothes. ']"
      ]
     },
     "execution_count": 6,
     "metadata": {},
     "output_type": "execute_result"
    }
   ],
   "source": [
    "res[0]"
   ]
  },
  {
   "cell_type": "code",
   "execution_count": 23,
   "id": "c8d69a0f",
   "metadata": {},
   "outputs": [],
   "source": [
    "# Converting res into a Dataframe and storing in text_data\n",
    "\n",
    "text_data = pd.DataFrame(res, columns=['Id', 'Text'])"
   ]
  },
  {
   "cell_type": "code",
   "execution_count": 8,
   "id": "c57441c0",
   "metadata": {},
   "outputs": [
    {
     "data": {
      "text/html": [
       "<div>\n",
       "<style scoped>\n",
       "    .dataframe tbody tr th:only-of-type {\n",
       "        vertical-align: middle;\n",
       "    }\n",
       "\n",
       "    .dataframe tbody tr th {\n",
       "        vertical-align: top;\n",
       "    }\n",
       "\n",
       "    .dataframe thead th {\n",
       "        text-align: right;\n",
       "    }\n",
       "</style>\n",
       "<table border=\"1\" class=\"dataframe\">\n",
       "  <thead>\n",
       "    <tr style=\"text-align: right;\">\n",
       "      <th></th>\n",
       "      <th>Id</th>\n",
       "      <th>Text</th>\n",
       "    </tr>\n",
       "  </thead>\n",
       "  <tbody>\n",
       "    <tr>\n",
       "      <th>0</th>\n",
       "      <td>57</td>\n",
       "      <td>Every person has a right to profess, practice...</td>\n",
       "    </tr>\n",
       "    <tr>\n",
       "      <th>1</th>\n",
       "      <td>1603</td>\n",
       "      <td>That is , the pigment particles mix with the ...</td>\n",
       "    </tr>\n",
       "    <tr>\n",
       "      <th>2</th>\n",
       "      <td>755</td>\n",
       "      <td>The Prime Minister of India is the leader of ...</td>\n",
       "    </tr>\n",
       "    <tr>\n",
       "      <th>3</th>\n",
       "      <td>1636</td>\n",
       "      <td>The water you drink now-a-days is not safe .</td>\n",
       "    </tr>\n",
       "    <tr>\n",
       "      <th>4</th>\n",
       "      <td>828</td>\n",
       "      <td>I , along with my mother , brothers and siste...</td>\n",
       "    </tr>\n",
       "    <tr>\n",
       "      <th>5</th>\n",
       "      <td>1506</td>\n",
       "      <td>School textbooks glorified the French and jus...</td>\n",
       "    </tr>\n",
       "    <tr>\n",
       "      <th>6</th>\n",
       "      <td>1114</td>\n",
       "      <td>Jordan has got roads , railways and airways .</td>\n",
       "    </tr>\n",
       "    <tr>\n",
       "      <th>7</th>\n",
       "      <td>1217</td>\n",
       "      <td>The velocity is given by the gradient of a po...</td>\n",
       "    </tr>\n",
       "    <tr>\n",
       "      <th>8</th>\n",
       "      <td>10967307</td>\n",
       "      <td>But the average percentage of oxygen and sili...</td>\n",
       "    </tr>\n",
       "    <tr>\n",
       "      <th>9</th>\n",
       "      <td>8951969</td>\n",
       "      <td>In  man first landed on the moon by rocket .</td>\n",
       "    </tr>\n",
       "  </tbody>\n",
       "</table>\n",
       "</div>"
      ],
      "text/plain": [
       "         Id                                               Text\n",
       "0        57   Every person has a right to profess, practice...\n",
       "1      1603   That is , the pigment particles mix with the ...\n",
       "2       755   The Prime Minister of India is the leader of ...\n",
       "3      1636      The water you drink now-a-days is not safe . \n",
       "4       828   I , along with my mother , brothers and siste...\n",
       "5      1506   School textbooks glorified the French and jus...\n",
       "6      1114     Jordan has got roads , railways and airways . \n",
       "7      1217   The velocity is given by the gradient of a po...\n",
       "8  10967307   But the average percentage of oxygen and sili...\n",
       "9   8951969      In  man first landed on the moon by rocket . "
      ]
     },
     "execution_count": 8,
     "metadata": {},
     "output_type": "execute_result"
    }
   ],
   "source": [
    "text_data.head(10)"
   ]
  },
  {
   "cell_type": "code",
   "execution_count": 10,
   "id": "da2323fe",
   "metadata": {},
   "outputs": [
    {
     "name": "stdout",
     "output_type": "stream",
     "text": [
      "Shape :  (2001, 2)\n",
      "\n",
      "Description of Dataset\n",
      "          Id                  Text\n",
      "count   2001                  2001\n",
      "unique  2001                  1999\n",
      "top       57   Man is unisexual . \n",
      "freq       1                     2\n",
      "<class 'pandas.core.frame.DataFrame'>\n",
      "RangeIndex: 2001 entries, 0 to 2000\n",
      "Data columns (total 2 columns):\n",
      " #   Column  Non-Null Count  Dtype \n",
      "---  ------  --------------  ----- \n",
      " 0   Id      2001 non-null   object\n",
      " 1   Text    2001 non-null   object\n",
      "dtypes: object(2)\n",
      "memory usage: 31.4+ KB\n",
      "None\n"
     ]
    }
   ],
   "source": [
    "print(\"Shape : \", format(text_data.shape))\n",
    "print(\"\\nDescription of Dataset\")\n",
    "print(text_data.describe())\n",
    "print(text_data.info())"
   ]
  },
  {
   "cell_type": "code",
   "execution_count": 11,
   "id": "a93cb2dd",
   "metadata": {},
   "outputs": [
    {
     "data": {
      "text/plain": [
       "Id      0\n",
       "Text    0\n",
       "dtype: int64"
      ]
     },
     "execution_count": 11,
     "metadata": {},
     "output_type": "execute_result"
    }
   ],
   "source": [
    "# Checking for null values\n",
    "text_data.isnull().sum()"
   ]
  },
  {
   "cell_type": "code",
   "execution_count": 12,
   "id": "8e46d71e",
   "metadata": {},
   "outputs": [
    {
     "data": {
      "text/plain": [
       "Id      object\n",
       "Text    object\n",
       "dtype: object"
      ]
     },
     "execution_count": 12,
     "metadata": {},
     "output_type": "execute_result"
    }
   ],
   "source": [
    "# Checking for data types\n",
    "text_data.dtypes"
   ]
  },
  {
   "cell_type": "code",
   "execution_count": 13,
   "id": "ac3c05c7",
   "metadata": {},
   "outputs": [],
   "source": [
    "# loading the text file pair-label-training.text\n",
    "\n",
    "with open('/Users/deepaksharma/Desktop/Open IIT DA/Dataset/drive-download-20221030T121228Z-001/pairs-label-training (1).txt') as inf:\n",
    "    pdata = inf.read().split('\\n')"
   ]
  },
  {
   "cell_type": "code",
   "execution_count": 14,
   "id": "1808778b",
   "metadata": {},
   "outputs": [
    {
     "data": {
      "text/plain": [
       "'4, 640, 0'"
      ]
     },
     "execution_count": 14,
     "metadata": {},
     "output_type": "execute_result"
    }
   ],
   "source": [
    "pdata[4]"
   ]
  },
  {
   "cell_type": "code",
   "execution_count": 15,
   "id": "62d36fcb",
   "metadata": {},
   "outputs": [],
   "source": [
    "list1 = []\n",
    "\n",
    "for i in pdata:\n",
    "    list1.append(i.split(','))\n",
    "    "
   ]
  },
  {
   "cell_type": "code",
   "execution_count": 16,
   "id": "a8bdc751",
   "metadata": {},
   "outputs": [
    {
     "data": {
      "text/plain": [
       "['98', ' 651', ' 0']"
      ]
     },
     "execution_count": 16,
     "metadata": {},
     "output_type": "execute_result"
    }
   ],
   "source": [
    "list1[0]"
   ]
  },
  {
   "cell_type": "code",
   "execution_count": 17,
   "id": "552e682a",
   "metadata": {},
   "outputs": [],
   "source": [
    "# p1 = paragraph 1\n",
    "# p2 = paragraph 2\n",
    "# Output: 0 means both paras are biased or both are unbiased\n",
    "#         1 means one is biased, other is unbiased\n",
    "\n",
    "pair_data = pd.DataFrame(list1, columns=['p1', 'p2', 'Output'])"
   ]
  },
  {
   "cell_type": "code",
   "execution_count": 18,
   "id": "ed217e26",
   "metadata": {},
   "outputs": [
    {
     "data": {
      "text/html": [
       "<div>\n",
       "<style scoped>\n",
       "    .dataframe tbody tr th:only-of-type {\n",
       "        vertical-align: middle;\n",
       "    }\n",
       "\n",
       "    .dataframe tbody tr th {\n",
       "        vertical-align: top;\n",
       "    }\n",
       "\n",
       "    .dataframe thead th {\n",
       "        text-align: right;\n",
       "    }\n",
       "</style>\n",
       "<table border=\"1\" class=\"dataframe\">\n",
       "  <thead>\n",
       "    <tr style=\"text-align: right;\">\n",
       "      <th></th>\n",
       "      <th>p1</th>\n",
       "      <th>p2</th>\n",
       "      <th>Output</th>\n",
       "    </tr>\n",
       "  </thead>\n",
       "  <tbody>\n",
       "    <tr>\n",
       "      <th>0</th>\n",
       "      <td>98</td>\n",
       "      <td>651</td>\n",
       "      <td>0</td>\n",
       "    </tr>\n",
       "    <tr>\n",
       "      <th>1</th>\n",
       "      <td>696</td>\n",
       "      <td>1870</td>\n",
       "      <td>1</td>\n",
       "    </tr>\n",
       "    <tr>\n",
       "      <th>2</th>\n",
       "      <td>1073</td>\n",
       "      <td>1620</td>\n",
       "      <td>0</td>\n",
       "    </tr>\n",
       "    <tr>\n",
       "      <th>3</th>\n",
       "      <td>167</td>\n",
       "      <td>633</td>\n",
       "      <td>0</td>\n",
       "    </tr>\n",
       "    <tr>\n",
       "      <th>4</th>\n",
       "      <td>4</td>\n",
       "      <td>640</td>\n",
       "      <td>0</td>\n",
       "    </tr>\n",
       "  </tbody>\n",
       "</table>\n",
       "</div>"
      ],
      "text/plain": [
       "     p1     p2 Output\n",
       "0    98    651      0\n",
       "1   696   1870      1\n",
       "2  1073   1620      0\n",
       "3   167    633      0\n",
       "4     4    640      0"
      ]
     },
     "execution_count": 18,
     "metadata": {},
     "output_type": "execute_result"
    }
   ],
   "source": [
    "pair_data.head()"
   ]
  },
  {
   "cell_type": "code",
   "execution_count": 19,
   "id": "44d19a77",
   "metadata": {},
   "outputs": [],
   "source": [
    "pd.options.display.max_colwidth=500"
   ]
  },
  {
   "cell_type": "code",
   "execution_count": 20,
   "id": "e58fcfbf",
   "metadata": {},
   "outputs": [
    {
     "name": "stdout",
     "output_type": "stream",
     "text": [
      "['being', 'and', \"shouldn't\", 'when', 'after', 'then', 'before', 'by', \"hadn't\", 'can', \"should've\", 'there', 'off', \"couldn't\", 'where', 'doesn', 'over', 'is', 'with', \"shan't\", 'd', \"hasn't\", 'the', 'between', 'was', \"didn't\", 'having', 'further', 've', 'ma', 'no', 'what', 'to', 'had', 'very', 'not', \"don't\", 'in', 'hasn', 'for', 'shan', 'doing', 'any', 'these', 'again', 'from', 'o', 's', 'at', 'y', 'as', 'haven', 'about', 'into', 'on', 'against', \"doesn't\", \"you'd\", 'some', 'how', \"that'll\", 'won', 'weren', 'while', 'didn', 'that', 'few', \"won't\", 'until', 'nor', 'it', 'just', 'wasn', 'are', 'been', \"it's\", 'this', \"weren't\", 'below', \"haven't\", 'other', \"wouldn't\", 'more', 'than', 'too', 'which', 'will', 'same', 'isn', 'ain', 'a', 'be', 'an', 'once', 'here', 'if', 'should', \"isn't\", 'mightn', 'of', 'but', 'itself', 'we', 'so', 'were', 'only', \"wasn't\", 'hadn', 'down', 'during', 're', 'now', 'out', 'do', 'under', 'or', 'its', 'don', 'couldn', 'most', 'such', 'through', 'did', 'why', 'has', 'because']\n"
     ]
    }
   ],
   "source": [
    "# stop_words (redundant informantion in text)\n",
    "\n",
    "stop_words = ['being', 'and', \"shouldn't\", 'when', 'after', 'then', 'before', 'by', \"hadn't\", 'can', \"should've\", 'there', 'off', \"couldn't\", 'where', 'doesn', 'over', 'is', 'with', \"shan't\", 'd', \"hasn't\", 'the', 'between', 'was', \"didn't\", 'having', 'further', 've', 'ma', 'no', 'what', 'to', 'had', 'very', 'not', \"don't\", 'in', 'hasn', 'for', 'shan', 'doing', 'any', 'these', 'again', 'from', 'o', 's', 'at', 'y', 'as', 'haven', 'about', 'into', 'on', 'against', \"doesn't\", \"you'd\", 'some', 'how', \"that'll\", 'won', 'weren', 'while', 'didn', 'that', 'few', \"won't\", 'until', 'nor', 'it', 'just', 'wasn', 'are', 'been', \"it's\", 'this', \"weren't\", 'below', \"haven't\", 'other', \"wouldn't\", 'more', 'than', 'too', 'which', 'will', 'same', 'isn', 'ain', 'a', 'be', 'an', 'once', 'here', 'if', 'should', \"isn't\", 'mightn', 'of', 'but', 'itself', 'we', 'so', 'were', 'only', \"wasn't\", 'hadn', 'down', 'during', 're', 'now', 'out', 'do', 'under', 'or', 'its', 'don', 'couldn', 'most', 'such', 'through', 'did', 'why', 'has', 'because']\n",
    "\n",
    "print(stop_words)"
   ]
  },
  {
   "cell_type": "code",
   "execution_count": 24,
   "id": "7969d206",
   "metadata": {},
   "outputs": [],
   "source": [
    "# Separating each word in the text (Tokenize the text)\n",
    "\n",
    "word_tokens = []\n",
    "for i in text_data.Text:\n",
    "    #tokens = []\n",
    "    #tokens.append(word_tokenize(i))\n",
    "    word_tokens.append(word_tokenize(i))"
   ]
  },
  {
   "cell_type": "code",
   "execution_count": 25,
   "id": "5871f59a",
   "metadata": {},
   "outputs": [],
   "source": [
    "text_data1 = []\n",
    "text_data1 = pd.DataFrame(text_data1)\n",
    "\n",
    "text_data2 = []\n",
    "text_data2 = pd.DataFrame(text_data2)"
   ]
  },
  {
   "cell_type": "code",
   "execution_count": 28,
   "id": "ce41c6c9",
   "metadata": {},
   "outputs": [],
   "source": [
    "text_data1[\"Id\"] = text_data[\"Id\"]\n",
    "text_data1[\"Text\"] = text_data[\"Text\"]\n",
    "text_data1[\"Tokenize_text\"] = word_tokens\n",
    "\n",
    "\n",
    "text_data2[\"Id\"] = text_data[\"Id\"]\n",
    "text_data2[\"Text\"] = text_data[\"Text\"]\n",
    "text_data2[\"Fltr_tknz\"] = filtered_tokenize_text"
   ]
  },
  {
   "cell_type": "code",
   "execution_count": 29,
   "id": "8713f11b",
   "metadata": {},
   "outputs": [
    {
     "data": {
      "text/html": [
       "<div>\n",
       "<style scoped>\n",
       "    .dataframe tbody tr th:only-of-type {\n",
       "        vertical-align: middle;\n",
       "    }\n",
       "\n",
       "    .dataframe tbody tr th {\n",
       "        vertical-align: top;\n",
       "    }\n",
       "\n",
       "    .dataframe thead th {\n",
       "        text-align: right;\n",
       "    }\n",
       "</style>\n",
       "<table border=\"1\" class=\"dataframe\">\n",
       "  <thead>\n",
       "    <tr style=\"text-align: right;\">\n",
       "      <th></th>\n",
       "      <th>Id</th>\n",
       "      <th>Text</th>\n",
       "      <th>Tokenize_text</th>\n",
       "    </tr>\n",
       "  </thead>\n",
       "  <tbody>\n",
       "    <tr>\n",
       "      <th>0</th>\n",
       "      <td>57</td>\n",
       "      <td>Every person has a right to profess, practice and propagate the religion he or she believes in. Every religious group or sect is free to manage its religious affairs. A right to propagate one s religion, however, does not mean that a person has right to compel another person to convert into his religion by means of force, fraud, inducement or allurement. Of course, a person is free to change religion on his or her own will. Freedom to practice religion does not mean that a person can do wha...</td>\n",
       "      <td>[Every, person, has, a, right, to, profess, ,, practice, and, propagate, the, religion, he, or, she, believes, in, ., Every, religious, group, or, sect, is, free, to, manage, its, religious, affairs, ., A, right, to, propagate, one, s, religion, ,, however, ,, does, not, mean, that, a, person, has, right, to, compel, another, person, to, convert, into, his, religion, by, means, of, force, ,, fraud, ,, inducement, or, allurement, ., Of, course, ,, a, person, is, free, to, change, religion, on...</td>\n",
       "    </tr>\n",
       "    <tr>\n",
       "      <th>1</th>\n",
       "      <td>1603</td>\n",
       "      <td>That is , the pigment particles mix with the vehicle in such a way that the particles are distributed in equal distances through out the whole liquid .</td>\n",
       "      <td>[That, is, ,, the, pigment, particles, mix, with, the, vehicle, in, such, a, way, that, the, particles, are, distributed, in, equal, distances, through, out, the, whole, liquid, .]</td>\n",
       "    </tr>\n",
       "    <tr>\n",
       "      <th>2</th>\n",
       "      <td>755</td>\n",
       "      <td>The Prime Minister of India is the leader of the ruling party in the Lok Sabha. From the MPs who belong to her party, the Prime Minister selects ministers to work with her to implement decisions. These ministers then take charge of different areas of government functioning like health, education, finance etc.</td>\n",
       "      <td>[The, Prime, Minister, of, India, is, the, leader, of, the, ruling, party, in, the, Lok, Sabha, ., From, the, MPs, who, belong, to, her, party, ,, the, Prime, Minister, selects, ministers, to, work, with, her, to, implement, decisions, ., These, ministers, then, take, charge, of, different, areas, of, government, functioning, like, health, ,, education, ,, finance, etc, .]</td>\n",
       "    </tr>\n",
       "    <tr>\n",
       "      <th>3</th>\n",
       "      <td>1636</td>\n",
       "      <td>The water you drink now-a-days is not safe .</td>\n",
       "      <td>[The, water, you, drink, now-a-days, is, not, safe, .]</td>\n",
       "    </tr>\n",
       "    <tr>\n",
       "      <th>4</th>\n",
       "      <td>828</td>\n",
       "      <td>I , along with my mother , brothers and sisters brought small bamboos .</td>\n",
       "      <td>[I, ,, along, with, my, mother, ,, brothers, and, sisters, brought, small, bamboos, .]</td>\n",
       "    </tr>\n",
       "  </tbody>\n",
       "</table>\n",
       "</div>"
      ],
      "text/plain": [
       "     Id  \\\n",
       "0    57   \n",
       "1  1603   \n",
       "2   755   \n",
       "3  1636   \n",
       "4   828   \n",
       "\n",
       "                                                                                                                                                                                                                                                                                                                                                                                                                                                                                                                  Text  \\\n",
       "0   Every person has a right to profess, practice and propagate the religion he or she believes in. Every religious group or sect is free to manage its religious affairs. A right to propagate one s religion, however, does not mean that a person has right to compel another person to convert into his religion by means of force, fraud, inducement or allurement. Of course, a person is free to change religion on his or her own will. Freedom to practice religion does not mean that a person can do wha...   \n",
       "1                                                                                                                                                                                                                                                                                                                                                             That is , the pigment particles mix with the vehicle in such a way that the particles are distributed in equal distances through out the whole liquid .    \n",
       "2                                                                                                                                                                                              The Prime Minister of India is the leader of the ruling party in the Lok Sabha. From the MPs who belong to her party, the Prime Minister selects ministers to work with her to implement decisions. These ministers then take charge of different areas of government functioning like health, education, finance etc.    \n",
       "3                                                                                                                                                                                                                                                                                                                                                                                                                                                                        The water you drink now-a-days is not safe .    \n",
       "4                                                                                                                                                                                                                                                                                                                                                                                                                                             I , along with my mother , brothers and sisters brought small bamboos .    \n",
       "\n",
       "                                                                                                                                                                                                                                                                                                                                                                                                                                                                                                         Tokenize_text  \n",
       "0  [Every, person, has, a, right, to, profess, ,, practice, and, propagate, the, religion, he, or, she, believes, in, ., Every, religious, group, or, sect, is, free, to, manage, its, religious, affairs, ., A, right, to, propagate, one, s, religion, ,, however, ,, does, not, mean, that, a, person, has, right, to, compel, another, person, to, convert, into, his, religion, by, means, of, force, ,, fraud, ,, inducement, or, allurement, ., Of, course, ,, a, person, is, free, to, change, religion, on...  \n",
       "1                                                                                                                                                                                                                                                                                                                                 [That, is, ,, the, pigment, particles, mix, with, the, vehicle, in, such, a, way, that, the, particles, are, distributed, in, equal, distances, through, out, the, whole, liquid, .]  \n",
       "2                                                                                                                              [The, Prime, Minister, of, India, is, the, leader, of, the, ruling, party, in, the, Lok, Sabha, ., From, the, MPs, who, belong, to, her, party, ,, the, Prime, Minister, selects, ministers, to, work, with, her, to, implement, decisions, ., These, ministers, then, take, charge, of, different, areas, of, government, functioning, like, health, ,, education, ,, finance, etc, .]  \n",
       "3                                                                                                                                                                                                                                                                                                                                                                                                                                                               [The, water, you, drink, now-a-days, is, not, safe, .]  \n",
       "4                                                                                                                                                                                                                                                                                                                                                                                                                               [I, ,, along, with, my, mother, ,, brothers, and, sisters, brought, small, bamboos, .]  "
      ]
     },
     "execution_count": 29,
     "metadata": {},
     "output_type": "execute_result"
    }
   ],
   "source": [
    "# Data with Id, Text and Tokenize Text\n",
    "text_data1.head()"
   ]
  },
  {
   "cell_type": "code",
   "execution_count": null,
   "id": "5715f918",
   "metadata": {},
   "outputs": [],
   "source": [
    "# Data with Id, Text and Filtered_tokenize_text\n",
    "text_data2.head()"
   ]
  },
  {
   "cell_type": "code",
   "execution_count": 27,
   "id": "cc7ad8fe",
   "metadata": {},
   "outputs": [],
   "source": [
    "# Tokenize text free from stopwords\n",
    "\n",
    "filtered_tokenize_text = []\n",
    "\n",
    "for i in word_tokens:\n",
    "    temp = [w for w in i if not w.lower() in stop_words]\n",
    "    filtered_tokenize_text.append(temp)"
   ]
  },
  {
   "cell_type": "code",
   "execution_count": null,
   "id": "15dd5e6d",
   "metadata": {},
   "outputs": [],
   "source": []
  }
 ],
 "metadata": {
  "kernelspec": {
   "display_name": "Python 3 (ipykernel)",
   "language": "python",
   "name": "python3"
  },
  "language_info": {
   "codemirror_mode": {
    "name": "ipython",
    "version": 3
   },
   "file_extension": ".py",
   "mimetype": "text/x-python",
   "name": "python",
   "nbconvert_exporter": "python",
   "pygments_lexer": "ipython3",
   "version": "3.9.7"
  }
 },
 "nbformat": 4,
 "nbformat_minor": 5
}
